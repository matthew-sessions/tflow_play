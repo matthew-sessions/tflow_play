{
 "cells": [
  {
   "cell_type": "code",
   "execution_count": 6,
   "metadata": {},
   "outputs": [],
   "source": [
    "import tensorflow as tf\n",
    "import numpy as np\n",
    "import cv2\n",
    "import requests\n",
    "\n",
    "\n",
    "model = tf.keras.models.load_model('eggfirst.model')\n"
   ]
  },
  {
   "cell_type": "code",
   "execution_count": 7,
   "metadata": {},
   "outputs": [],
   "source": [
    "def format(url):\n",
    "    resp = requests.get(url, stream=True).raw\n",
    "    image = np.asarray(bytearray(resp.read()), dtype=\"uint8\")\n",
    "    image = cv2.imdecode(image, cv2.IMREAD_GRAYSCALE)\n",
    "    image = cv2.resize(image, (100, 100))\n",
    "    image = image.reshape(-1, 100, 100, 1)\n",
    "    return model.predict([image])\n",
    "    "
   ]
  },
  {
   "cell_type": "code",
   "execution_count": 9,
   "metadata": {},
   "outputs": [],
   "source": [
    "a = format('https://www.metoffice.gov.uk/binaries/content/gallery/metofficegovuk/hero-images/weather/cloud/cumulus-cloud.jpg')"
   ]
  },
  {
   "cell_type": "code",
   "execution_count": 12,
   "metadata": {},
   "outputs": [
    {
     "data": {
      "text/plain": [
       "1.0"
      ]
     },
     "execution_count": 12,
     "metadata": {},
     "output_type": "execute_result"
    }
   ],
   "source": [
    "a[0][0]"
   ]
  },
  {
   "cell_type": "code",
   "execution_count": 33,
   "metadata": {},
   "outputs": [
    {
     "data": {
      "text/plain": [
       "{'error': {'message': '(#10) This message is sent outside of allowed window. Learn more about the new policy here: https://developers.facebook.com/docs/messenger-platform/policy-overview',\n",
       "  'type': 'OAuthException',\n",
       "  'code': 10,\n",
       "  'error_subcode': 2018278,\n",
       "  'fbtrace_id': 'AImlnNnE4nhAgwOkQ5LOPkz'}}"
      ]
     },
     "execution_count": 33,
     "metadata": {},
     "output_type": "execute_result"
    }
   ],
   "source": [
    "idd = 1806027606109003\n",
    "token = 'EAAYaGCW92vEBAIXyFoKvGVXTuupN4gg7wMIDMMbVjGS1dn1iX0xgh5ze8wVk8DICKgRky7BzWZAcyv08BNVbkAwFhWNxmZAKtGmnegR48fRrinK4oa2Co97ZB2bcZCUn6OZBnoHfR10MYZCkOKd2NrQmZBUyV5vGhYW2y1Wt3CeS03Mn5koaJNXRoW8sCtBfXsZD'\n",
    "body = {\n",
    "      \"messaging_type\": \"RESPONSE\",\n",
    "      \"recipient\": {\"id\": '1806027606109003'},\n",
    "      \"message\": {\n",
    "        \"text\": \"You have an egg!\"\n",
    "      }\n",
    "    }\n",
    "requests.post(f\"https://graph.facebook.com/v7.0/me/messages?access_token={token}\", json=body).json()"
   ]
  },
  {
   "cell_type": "code",
   "execution_count": null,
   "metadata": {},
   "outputs": [],
   "source": []
  },
  {
   "cell_type": "code",
   "execution_count": null,
   "metadata": {},
   "outputs": [],
   "source": []
  }
 ],
 "metadata": {
  "kernelspec": {
   "display_name": "Python 3",
   "language": "python",
   "name": "python3"
  },
  "language_info": {
   "codemirror_mode": {
    "name": "ipython",
    "version": 3
   },
   "file_extension": ".py",
   "mimetype": "text/x-python",
   "name": "python",
   "nbconvert_exporter": "python",
   "pygments_lexer": "ipython3",
   "version": "3.7.4"
  }
 },
 "nbformat": 4,
 "nbformat_minor": 4
}
